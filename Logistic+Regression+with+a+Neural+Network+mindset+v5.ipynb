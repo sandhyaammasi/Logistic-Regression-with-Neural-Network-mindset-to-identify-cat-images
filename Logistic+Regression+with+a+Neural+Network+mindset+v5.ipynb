{
 "cells": [
  {
   "cell_type": "markdown",
   "source": [
    "# Logistic Regression with a Neural Network mindset\n",
    "\n",
    "Welcome to your first (required) programming assignment! You will build a logistic regression classifier to recognize  cats. This assignment will step you through how to do this with a Neural Network mindset, and so will also hone your intuitions about deep learning.\n",
    "\n",
    "**Instructions:**\n",
    "- Do not use loops (for/while) in your code, unless the instructions explicitly ask you to do so.\n",
    "\n",
    "**You will learn to:**\n",
    "- Build the general architecture of a learning algorithm, including:\n",
    "    - Initializing parameters\n",
    "    - Calculating the cost function and its gradient\n",
    "    - Using an optimization algorithm (gradient descent) \n",
    "- Gather all three functions above into a main model function, in the right order."
   ],
   "metadata": {}
  },
  {
   "cell_type": "markdown",
   "source": [
    "## 1 - Packages ##\n",
    "\n",
    "First, let's run the cell below to import all the packages that you will need during this assignment. \n",
    "- [numpy](www.numpy.org) is the fundamental package for scientific computing with Python.\n",
    "- [h5py](http://www.h5py.org) is a common package to interact with a dataset that is stored on an H5 file.\n",
    "- [matplotlib](http://matplotlib.org) is a famous library to plot graphs in Python.\n",
    "- [PIL](http://www.pythonware.com/products/pil/) and [scipy](https://www.scipy.org/) are used here to test your model with your own picture at the end."
   ],
   "metadata": {}
  },
  {
   "cell_type": "code",
   "execution_count": 1,
   "source": [
    "import numpy as np\r\n",
    "import matplotlib.pyplot as plt\r\n",
    "import h5py\r\n",
    "import scipy\r\n",
    "from PIL import Image\r\n",
    "from scipy import ndimage\r\n",
    "from lr_utils import load_dataset\r\n",
    "import os \r\n",
    "import cv2\r\n",
    "%matplotlib inline\r\n",
    "ROWS = 64\r\n",
    "COLS = 64\r\n",
    "CHANNELS = 3"
   ],
   "outputs": [],
   "metadata": {
    "collapsed": false
   }
  },
  {
   "cell_type": "markdown",
   "source": [
    "## 2 - Overview of the Problem set ##\n",
    "\n",
    "**Problem Statement**: You are given a dataset (\"data.h5\") containing:\n",
    "    - a training set of m_train images labeled as cat (y=1) or non-cat (y=0)\n",
    "    - a test set of m_test images labeled as cat or non-cat\n",
    "    - each image is of shape (num_px, num_px, 3) where 3 is for the 3 channels (RGB). Thus, each image is square (height = num_px) and (width = num_px).\n",
    "\n",
    "You will build a simple image-recognition algorithm that can correctly classify pictures as cat or non-cat.\n",
    "\n",
    "Let's get more familiar with the dataset. Load the data by running the following code."
   ],
   "metadata": {
    "collapsed": true
   }
  },
  {
   "cell_type": "code",
   "execution_count": 2,
   "source": [
    "# Loading the data (cat/non-cat)\r\n",
    "train_set_x_orig, train_set_y, test_set_x_orig, test_set_y, classes = load_dataset()\r\n"
   ],
   "outputs": [],
   "metadata": {
    "collapsed": false
   }
  },
  {
   "cell_type": "markdown",
   "source": [
    "We added \"_orig\" at the end of image datasets (train and test) because we are going to preprocess them. After preprocessing, we will end up with train_set_x and test_set_x (the labels train_set_y and test_set_y don't need any preprocessing).\r\n",
    "\r\n",
    "Each line of your train_set_x_orig and test_set_x_orig is an array representing an image. You can visualize an example by running the following code. Feel free also to change the `index` value and re-run to see other images. "
   ],
   "metadata": {}
  },
  {
   "cell_type": "code",
   "execution_count": 3,
   "source": [
    "# Example of a picture\r\n",
    "index = 9\r\n",
    "plt.imshow(train_set_x_orig[index])\r\n",
    "print (\"y = \" + str(train_set_y[:, index]) + \", it's a '\" + classes[np.squeeze(train_set_y[:, index])].decode(\"utf-8\") +  \"' picture.\")"
   ],
   "outputs": [
    {
     "output_type": "stream",
     "name": "stdout",
     "text": [
      "y = [0], it's a 'non-cat' picture.\n"
     ]
    },
    {
     "output_type": "display_data",
     "data": {
      "image/png": "[encoded data removed]",
      "text/plain": [
       "<Figure size 432x288 with 1 Axes>"
      ]
     },
     "metadata": {
      "needs_background": "light"
     }
    }
   ],
   "metadata": {
    "collapsed": false
   }
  },
  {
   "cell_type": "markdown",
   "source": [
    "Many software bugs in deep learning come from having matrix/vector dimensions that don't fit. If you can keep your matrix/vector dimensions straight you will go a long way toward eliminating many bugs. \n",
    "\n",
    "**Exercise:** Find the values for:\n",
    "    - m_train (number of training examples)\n",
    "    - m_test (number of test examples)\n",
    "    - num_px (= height = width of a training image)\n",
    "Remember that `train_set_x_orig` is a numpy-array of shape (m_train, num_px, num_px, 3). For instance, you can access `m_train` by writing `train_set_x_orig.shape[0]`."
   ],
   "metadata": {}
  },
  {
   "cell_type": "code",
   "execution_count": 4,
   "source": [
    "### START CODE HERE ### (≈ 3 lines of code)\r\n",
    "m_train = train_set_x_orig.shape[0]\r\n",
    "num_px = train_set_x_orig.shape[1]\r\n",
    "m_test = test_set_x_orig.shape[0]\r\n",
    "### END CODE HERE ###\r\n",
    "\r\n",
    "print (\"Number of training examples: m_train = \" + str(m_train))\r\n",
    "print (\"Number of testing examples: m_test = \" + str(m_test))\r\n",
    "print (\"Height/Width of each image: num_px = \" + str(num_px))\r\n",
    "print (\"Each image is of size: (\" + str(num_px) + \", \" + str(num_px) + \", 3)\")\r\n",
    "print (\"train_set_x shape: \" + str(train_set_x_orig.shape))\r\n",
    "print (\"train_set_y shape: \" + str(train_set_y.shape))\r\n",
    "print (\"test_set_x shape: \" + str(test_set_x_orig.shape))\r\n",
    "print (\"test_set_y shape: \" + str(test_set_y.shape))"
   ],
   "outputs": [
    {
     "output_type": "stream",
     "name": "stdout",
     "text": [
      "Number of training examples: m_train = 209\n",
      "Number of testing examples: m_test = 50\n",
      "Height/Width of each image: num_px = 64\n",
      "Each image is of size: (64, 64, 3)\n",
      "train_set_x shape: (209, 64, 64, 3)\n",
      "train_set_y shape: (1, 209)\n",
      "test_set_x shape: (50, 64, 64, 3)\n",
      "test_set_y shape: (1, 50)\n"
     ]
    }
   ],
   "metadata": {
    "collapsed": false,
    "scrolled": true
   }
  },
  {
   "cell_type": "markdown",
   "source": [
    "**Expected Output for m_train, m_test and num_px**: \n",
    "<table style=\"width:15%\">\n",
    "  <tr>\n",
    "    <td>**m_train**</td>\n",
    "    <td> 209 </td> \n",
    "  </tr>\n",
    "  \n",
    "  <tr>\n",
    "    <td>**m_test**</td>\n",
    "    <td> 50 </td> \n",
    "  </tr>\n",
    "  \n",
    "  <tr>\n",
    "    <td>**num_px**</td>\n",
    "    <td> 64 </td> \n",
    "  </tr>\n",
    "  \n",
    "</table>\n"
   ],
   "metadata": {}
  },
  {
   "cell_type": "markdown",
   "source": [
    "For convenience, you should now reshape images of shape (num_px, num_px, 3) in a numpy-array of shape (num_px $*$ num_px $*$ 3, 1). After this, our training (and test) dataset is a numpy-array where each column represents a flattened image. There should be m_train (respectively m_test) columns.\n",
    "\n",
    "**Exercise:** Reshape the training and test data sets so that images of size (num_px, num_px, 3) are flattened into single vectors of shape (num\\_px $*$ num\\_px $*$ 3, 1).\n",
    "\n",
    "A trick when you want to flatten a matrix X of shape (a,b,c,d) to a matrix X_flatten of shape (b$*$c$*$d, a) is to use: \n",
    "```python\n",
    "X_flatten = X.reshape(X.shape[0], -1).T      # X.T is the transpose of X\n",
    "```"
   ],
   "metadata": {}
  },
  {
   "cell_type": "code",
   "execution_count": 5,
   "source": [
    "# Reshape the training and test examples\r\n",
    "\r\n",
    "### START CODE HERE ### (≈ 2 lines of code)\r\n",
    "train_set_x_flatten = train_set_x_orig.reshape(train_set_x_orig.shape[0], -1).T\r\n",
    "test_set_x_flatten = test_set_x_orig.reshape(test_set_x_orig.shape[0], -1).T\r\n",
    "### END CODE HERE ###\r\n",
    "\r\n",
    "print (\"train_set_x_flatten shape: \" + str(train_set_x_flatten.shape))\r\n",
    "print (\"train_set_y shape: \" + str(train_set_y.shape))\r\n",
    "print (\"test_set_x_flatten shape: \" + str(test_set_x_flatten.shape))\r\n",
    "print (\"test_set_y shape: \" + str(test_set_y.shape))\r\n",
    "print (\"sanity check after reshaping: \" + str(train_set_x_flatten[0:5,0]))"
   ],
   "outputs": [
    {
     "output_type": "stream",
     "name": "stdout",
     "text": [
      "train_set_x_flatten shape: (12288, 209)\n",
      "train_set_y shape: (1, 209)\n",
      "test_set_x_flatten shape: (12288, 50)\n",
      "test_set_y shape: (1, 50)\n",
      "sanity check after reshaping: [17 31 56 22 33]\n"
     ]
    }
   ],
   "metadata": {
    "collapsed": false
   }
  },
  {
   "cell_type": "markdown",
   "source": [
    "**Expected Output**: \r\n",
    "\r\n",
    "<table style=\"width:35%\">\r\n",
    "  <tr>\r\n",
    "    <td>**train_set_x_flatten shape**</td>\r\n",
    "    <td> (12288, 209)</td> \r\n",
    "  </tr>\r\n",
    "  <tr>\r\n",
    "    <td>**train_set_y shape**</td>\r\n",
    "    <td>(1, 209)</td> \r\n",
    "  </tr>\r\n",
    "  <tr>\r\n",
    "    <td>**test_set_x_flatten shape**</td>\r\n",
    "    <td>(12288, 50)</td> \r\n",
    "  </tr>\r\n",
    "  <tr>\r\n",
    "    <td>**test_set_y shape**</td>\r\n",
    "    <td>(1, 50)</td> \r\n",
    "  </tr>\r\n",
    "  <tr>\r\n",
    "  <td>**sanity check after reshaping**</td>\r\n",
    "  <td>[17 31 56 22 33]</td> \r\n",
    "  </tr>\r\n",
    "</table>"
   ],
   "metadata": {}
  },
  {
   "cell_type": "markdown",
   "source": [
    "To represent color images, the red, green and blue channels (RGB) must be specified for each pixel, and so the pixel value is actually a vector of three numbers ranging from 0 to 255.\n",
    "\n",
    "One common preprocessing step in machine learning is to center and standardize your dataset, meaning that you substract the mean of the whole numpy array from each example, and then divide each example by the standard deviation of the whole numpy array. But for picture datasets, it is simpler and more convenient and works almost as well to just divide every row of the dataset by 255 (the maximum value of a pixel channel).\n",
    "\n",
    "<!-- During the training of your model, you're going to multiply weights and add biases to some initial inputs in order to observe neuron activations. Then you backpropogate with the gradients to train the model. But, it is extremely important for each feature to have a similar range such that our gradients don't explode. You will see that more in detail later in the lectures. !--> \n",
    "\n",
    "Let's standardize our dataset."
   ],
   "metadata": {}
  },
  {
   "cell_type": "code",
   "execution_count": 6,
   "source": [
    "train_set_x = train_set_x_flatten/255.\r\n",
    "test_set_x = test_set_x_flatten/255.\r\n",
    "\r\n",
    "print (\"train_x's shape: \" + str(train_set_x.shape))\r\n",
    "print (\"test_x's shape: \" + str(test_set_x.shape))"
   ],
   "outputs": [
    {
     "output_type": "stream",
     "name": "stdout",
     "text": [
      "train_x's shape: (12288, 209)\n",
      "test_x's shape: (12288, 50)\n"
     ]
    }
   ],
   "metadata": {
    "collapsed": false
   }
  },
  {
   "cell_type": "markdown",
   "source": [
    "<font color='blue'>\n",
    "**What you need to remember:**\n",
    "\n",
    "Common steps for pre-processing a new dataset are:\n",
    "- Figure out the dimensions and shapes of the problem (m_train, m_test, num_px, ...)\n",
    "- Reshape the datasets such that each example is now a vector of size (num_px \\* num_px \\* 3, 1)\n",
    "- \"Standardize\" the data"
   ],
   "metadata": {}
  },
  {
   "cell_type": "markdown",
   "source": [
    "## 3 - General Architecture of the learning algorithm ##\r\n",
    "\r\n",
    "It's time to design a simple algorithm to distinguish cat images from non-cat images.\r\n",
    "\r\n",
    "You will build a Logistic Regression, using a Neural Network mindset. The following Figure explains why **Logistic Regression is actually a very simple Neural Network!**\r\n",
    "\r\n",
    "<img src=\"images/LogReg_kiank.png\" style=\"width:650px;height:400px;\">\r\n",
    "\r\n",
    "**Mathematical expression of the algorithm**:\r\n",
    "\r\n",
    "For one example $x^{(i)}$:\r\n",
    "$$z^{(i)} = w^T x^{(i)} + b \\tag{1}$$\r\n",
    "$$\\hat{y}^{(i)} = a^{(i)} = sigmoid(z^{(i)})\\tag{2}$$ \r\n",
    "$$ \\mathcal{L}(a^{(i)}, y^{(i)}) =  - y^{(i)}  \\log(a^{(i)}) - (1-y^{(i)} )  \\log(1-a^{(i)})\\tag{3}$$\r\n",
    "\r\n",
    "The cost is then computed by summing over all training examples:\r\n",
    "$$ J = \\frac{1}{m} \\sum_{i=1}^m \\mathcal{L}(a^{(i)}, y^{(i)})\\tag{6}$$\r\n",
    "\r\n",
    "**Key steps**:\r\n",
    "In this exercise, you will carry out the following steps: \r\n",
    "    - Initialize the parameters of the model\r\n",
    "    - Learn the parameters for the model by minimizing the cost  \r\n",
    "    - Use the learned parameters to make predictions (on the test set)\r\n",
    "    - Analyse the results and conclude"
   ],
   "metadata": {}
  },
  {
   "cell_type": "markdown",
   "source": [
    "## 4 - Building the parts of our algorithm ## \r\n",
    "\r\n",
    "The main steps for building a Neural Network are:\r\n",
    "1. Define the model structure (such as number of input features) \r\n",
    "2. Initialize the model's parameters\r\n",
    "3. Loop:\r\n",
    "    - Calculate current loss (forward propagation)\r\n",
    "    - Calculate current gradient (backward propagation)\r\n",
    "    - Update parameters (gradient descent)\r\n",
    "\r\n",
    "You often build 1-3 separately and integrate them into one function we call `model()`.\r\n",
    "\r\n",
    "### 4.1 - Helper functions\r\n",
    "\r\n",
    "**Exercise**: Using your code from \"Python Basics\", implement `sigmoid()`. As you've seen in the figure above, you need to compute $sigmoid( w^T x + b) = \\frac{1}{1 + e^{-(w^T x + b)}}$ to make predictions. Use np.exp()."
   ],
   "metadata": {}
  },
  {
   "cell_type": "code",
   "execution_count": 7,
   "source": [
    "# GRADED FUNCTION: sigmoid\r\n",
    "\r\n",
    "def sigmoid(z):\r\n",
    "    \"\"\"\r\n",
    "    Compute the sigmoid of z\r\n",
    "\r\n",
    "    Arguments:\r\n",
    "    z -- A scalar or numpy array of any size.\r\n",
    "\r\n",
    "    Return:\r\n",
    "    s -- sigmoid(z)\r\n",
    "    \"\"\"\r\n",
    "\r\n",
    "    ### START CODE HERE ### (≈ 1 line of code)\r\n",
    "  #  s = None\r\n",
    "    s = 1/(1+np.exp(-z))\r\n",
    "    return s\r\n",
    "    ### END CODE HERE ###\r\n",
    "    \r\n",
    "  "
   ],
   "outputs": [],
   "metadata": {
    "collapsed": false
   }
  },
  {
   "cell_type": "code",
   "execution_count": 8,
   "source": [
    "print (\"sigmoid([0, 2]) = \" + str(sigmoid(np.array([0,2]))))"
   ],
   "outputs": [
    {
     "output_type": "stream",
     "name": "stdout",
     "text": [
      "sigmoid([0, 2]) = [0.5        0.88079708]\n"
     ]
    }
   ],
   "metadata": {
    "collapsed": false,
    "scrolled": true
   }
  },
  {
   "cell_type": "markdown",
   "source": [
    "**Expected Output**: \n",
    "\n",
    "<table>\n",
    "  <tr>\n",
    "    <td>**sigmoid([0, 2])**</td>\n",
    "    <td> [ 0.5         0.88079708]</td> \n",
    "  </tr>\n",
    "</table>"
   ],
   "metadata": {}
  },
  {
   "cell_type": "markdown",
   "source": [
    "### 4.2 - Initializing parameters\n",
    "\n",
    "**Exercise:** Implement parameter initialization in the cell below. You have to initialize w as a vector of zeros. If you don't know what numpy function to use, look up np.zeros() in the Numpy library's documentation."
   ],
   "metadata": {}
  },
  {
   "cell_type": "code",
   "execution_count": 9,
   "source": [
    "# GRADED FUNCTION: initialize_with_zeros\r\n",
    "\r\n",
    "def initialize_with_zeros(dim):\r\n",
    "    \"\"\"\r\n",
    "    This function creates a vector of zeros of shape (dim, 1) for w and initializes b to 0.\r\n",
    "    \r\n",
    "    Argument:\r\n",
    "    dim -- size of the w vector we want (or number of parameters in this case)\r\n",
    "    \r\n",
    "    Returns:\r\n",
    "    w -- initialized vector of shape (dim, 1)\r\n",
    "    b -- initialized scalar (corresponds to the bias)\r\n",
    "    \"\"\"\r\n",
    "    \r\n",
    "    ### START CODE HERE ### (≈ 1 line of code)\r\n",
    "    #w = None\r\n",
    "    #b = None\r\n",
    "    w = np.zeros((dim, 1))\r\n",
    "    b = 0\r\n",
    "    ### END CODE HERE ###\r\n",
    "\r\n",
    "    assert(w.shape == (dim, 1))\r\n",
    "    assert(isinstance(b, float) or isinstance(b, int))\r\n",
    "    \r\n",
    "    return w, b"
   ],
   "outputs": [],
   "metadata": {
    "collapsed": false
   }
  },
  {
   "cell_type": "code",
   "execution_count": 10,
   "source": [
    "dim = 2\r\n",
    "w, b = initialize_with_zeros(dim)\r\n",
    "print (\"w = \" + str(w))\r\n",
    "print (\"b = \" + str(b))"
   ],
   "outputs": [
    {
     "output_type": "stream",
     "name": "stdout",
     "text": [
      "w = [[0.]\n",
      " [0.]]\n",
      "b = 0\n"
     ]
    }
   ],
   "metadata": {
    "collapsed": false
   }
  },
  {
   "cell_type": "markdown",
   "source": [
    "**Expected Output**: \n",
    "\n",
    "\n",
    "<table style=\"width:15%\">\n",
    "    <tr>\n",
    "        <td>  ** w **  </td>\n",
    "        <td> [[ 0.]\n",
    " [ 0.]] </td>\n",
    "    </tr>\n",
    "    <tr>\n",
    "        <td>  ** b **  </td>\n",
    "        <td> 0 </td>\n",
    "    </tr>\n",
    "</table>\n",
    "\n",
    "For image inputs, w will be of shape (num_px $\\times$ num_px $\\times$ 3, 1)."
   ],
   "metadata": {}
  },
  {
   "cell_type": "markdown",
   "source": [
    "### 4.3 - Forward and Backward propagation\n",
    "\n",
    "Now that your parameters are initialized, you can do the \"forward\" and \"backward\" propagation steps for learning the parameters.\n",
    "\n",
    "**Exercise:** Implement a function `propagate()` that computes the cost function and its gradient.\n",
    "\n",
    "**Hints**:\n",
    "\n",
    "Forward Propagation:\n",
    "- You get X\n",
    "- You compute $A = \\sigma(w^T X + b) = (a^{(1)}, a^{(2)}, ..., a^{(m-1)}, a^{(m)})$\n",
    "- You calculate the cost function: $J = -\\frac{1}{m}\\sum_{i=1}^{m}y^{(i)}\\log(a^{(i)})+(1-y^{(i)})\\log(1-a^{(i)})$\n",
    "\n",
    "Here are the two formulas you will be using: \n",
    "\n",
    "$$ \\frac{\\partial J}{\\partial w} = \\frac{1}{m}X(A-Y)^T\\tag{7}$$\n",
    "$$ \\frac{\\partial J}{\\partial b} = \\frac{1}{m} \\sum_{i=1}^m (a^{(i)}-y^{(i)})\\tag{8}$$"
   ],
   "metadata": {}
  },
  {
   "cell_type": "code",
   "execution_count": 11,
   "source": [
    "# GRADED FUNCTION: propagate\r\n",
    "\r\n",
    "def propagate(w, b, X, Y):\r\n",
    "    \"\"\"\r\n",
    "    Implement the cost function and its gradient for the propagation explained above\r\n",
    "\r\n",
    "    Arguments:\r\n",
    "    w -- weights, a numpy array of size (num_px * num_px * 3, 1)\r\n",
    "    b -- bias, a scalar\r\n",
    "    X -- data of size (num_px * num_px * 3, number of examples)\r\n",
    "    Y -- true \"label\" vector (containing 0 if non-cat, 1 if cat) of size (1, number of examples)\r\n",
    "\r\n",
    "    Return:\r\n",
    "    cost -- negative log-likelihood cost for logistic regression\r\n",
    "    dw -- gradient of the loss with respect to w, thus same shape as w\r\n",
    "    db -- gradient of the loss with respect to b, thus same shape as b\r\n",
    "    \r\n",
    "    Tips:\r\n",
    "    - Write your code step by step for the propagation. np.log(), np.dot()\r\n",
    "    \"\"\"\r\n",
    "    \r\n",
    "    m = X.shape[1]\r\n",
    "    \r\n",
    "    # FORWARD PROPAGATION (FROM X TO COST)\r\n",
    "    ### START CODE HERE ### (≈ 2 lines of code)\r\n",
    "    #A = None                                    # compute activation\r\n",
    "    #cost = None                                 # compute cost\r\n",
    "    z = np.dot(w.T, X)+b \r\n",
    "    A = sigmoid(z)                                  \r\n",
    "    cost = (-np.sum(Y*np.log(A)+(1-Y)*np.log(1-A)))/m \r\n",
    "    ### END CODE HERE ###\r\n",
    "    \r\n",
    "    # BACKWARD PROPAGATION (TO FIND GRAD)\r\n",
    "    ### START CODE HERE ### (≈ 2 lines of code)\r\n",
    "    dw = (np.dot(X,(A-Y).T))/m # tag 6\r\n",
    "    db = np.average(A-Y) # tag 7\r\n",
    "    ### END CODE HERE ###\r\n",
    "\r\n",
    "    assert(dw.shape == w.shape)\r\n",
    "    assert(db.dtype == float)\r\n",
    "    cost = np.squeeze(cost)\r\n",
    "    assert(cost.shape == ())\r\n",
    "    \r\n",
    "    grads = {\"dw\": dw,\r\n",
    "             \"db\": db}\r\n",
    "    \r\n",
    "    return grads, cost"
   ],
   "outputs": [],
   "metadata": {
    "collapsed": false
   }
  },
  {
   "cell_type": "code",
   "execution_count": 12,
   "source": [
    "w, b, X, Y = np.array([[1.],[2.]]), 2., np.array([[1.,2.,-1.],[3.,4.,-3.2]]), np.array([[1,0,1]])\r\n",
    "grads, cost = propagate(w, b, X, Y)\r\n",
    "print (\"dw = \" + str(grads[\"dw\"]))\r\n",
    "print (\"db = \" + str(grads[\"db\"]))\r\n",
    "print (\"cost = \" + str(cost))"
   ],
   "outputs": [
    {
     "output_type": "stream",
     "name": "stdout",
     "text": [
      "dw = [[0.99845601]\n",
      " [2.39507239]]\n",
      "db = 0.001455578136784208\n",
      "cost = 5.801545319394553\n"
     ]
    }
   ],
   "metadata": {
    "collapsed": false
   }
  },
  {
   "cell_type": "markdown",
   "source": [
    "**Expected Output**:\n",
    "\n",
    "<table style=\"width:50%\">\n",
    "    <tr>\n",
    "        <td>  ** dw **  </td>\n",
    "      <td> [[ 0.99845601]\n",
    "     [ 2.39507239]]</td>\n",
    "    </tr>\n",
    "    <tr>\n",
    "        <td>  ** db **  </td>\n",
    "        <td> 0.00145557813678 </td>\n",
    "    </tr>\n",
    "    <tr>\n",
    "        <td>  ** cost **  </td>\n",
    "        <td> 5.801545319394553 </td>\n",
    "    </tr>\n",
    "\n",
    "</table>"
   ],
   "metadata": {}
  },
  {
   "cell_type": "markdown",
   "source": [
    "### 4.4 - Optimization\n",
    "- You have initialized your parameters.\n",
    "- You are also able to compute a cost function and its gradient.\n",
    "- Now, you want to update the parameters using gradient descent.\n",
    "\n",
    "**Exercise:** Write down the optimization function. The goal is to learn $w$ and $b$ by minimizing the cost function $J$. For a parameter $\\theta$, the update rule is $ \\theta = \\theta - \\alpha \\text{ } d\\theta$, where $\\alpha$ is the learning rate."
   ],
   "metadata": {}
  },
  {
   "cell_type": "code",
   "execution_count": 13,
   "source": [
    "# GRADED FUNCTION: optimize\r\n",
    "\r\n",
    "'''def optimize(w, b, X, Y, num_iterations, learning_rate, print_cost = False):\r\n",
    "    \"\"\"\r\n",
    "    This function optimizes w and b by running a gradient descent algorithm\r\n",
    "    \r\n",
    "    Arguments:\r\n",
    "    w -- weights, a numpy array of size (num_px * num_px * 3, 1)\r\n",
    "    b -- bias, a scalar\r\n",
    "    X -- data of shape (num_px * num_px * 3, number of examples)\r\n",
    "    Y -- true \"label\" vector (containing 0 if non-cat, 1 if cat), of shape (1, number of examples)\r\n",
    "    num_iterations -- number of iterations of the optimization loop\r\n",
    "    learning_rate -- learning rate of the gradient descent update rule\r\n",
    "    print_cost -- True to print the loss every 100 steps\r\n",
    "    \r\n",
    "    Returns:\r\n",
    "    params -- dictionary containing the weights w and bias b\r\n",
    "    grads -- dictionary containing the gradients of the weights and bias with respect to the cost function\r\n",
    "    costs -- list of all the costs computed during the optimization, this will be used to plot the learning curve.\r\n",
    "    \r\n",
    "    Tips:\r\n",
    "    You basically need to write down two steps and iterate through them:\r\n",
    "        1) Calculate the cost and the gradient for the current parameters. Use propagate().\r\n",
    "        2) Update the parameters using gradient descent rule for w and b.\r\n",
    "    \"\"\"\r\n",
    "    \r\n",
    "    '''\r\n",
    "\r\n",
    "def optimize(w, b, X, Y, num_iterations, learning_rate, print_cost = False):\r\n",
    "    costs = []    \r\n",
    "    for i in range(num_iterations):\r\n",
    "        # Cost and gradient calculation\r\n",
    "        grads, cost = propagate(w, b, X, Y)\r\n",
    "        \r\n",
    "        # Retrieve derivatives from grads\r\n",
    "        dw = grads[\"dw\"]\r\n",
    "        db = grads[\"db\"]\r\n",
    "\r\n",
    "        # update w and b\r\n",
    "        w = w - learning_rate*dw\r\n",
    "        b = b - learning_rate*db\r\n",
    "\r\n",
    "        # Record the costs\r\n",
    "        if i % 100 == 0:\r\n",
    "            costs.append(cost)\r\n",
    "            \r\n",
    "        # Print the cost every 100 training iterations\r\n",
    "        if print_cost and i % 100 == 0:\r\n",
    "            print (\"Cost after iteration %i: %f\" %(i, cost))\r\n",
    "\r\n",
    "    # update w and b to dictionary\r\n",
    "    params = {\"w\": w,\r\n",
    "              \"b\": b}\r\n",
    "    \r\n",
    "    # update derivatives to dictionary\r\n",
    "    grads = {\"dw\": dw,\r\n",
    "             \"db\": db}\r\n",
    "    \r\n",
    "    return params, grads, costs"
   ],
   "outputs": [],
   "metadata": {
    "collapsed": false
   }
  },
  {
   "cell_type": "code",
   "execution_count": 14,
   "source": [
    "params, grads, costs = optimize(w, b, X, Y, num_iterations= 100, learning_rate = 0.009, print_cost = False)\r\n",
    "\r\n",
    "print (\"w = \" + str(params[\"w\"]))\r\n",
    "print (\"b = \" + str(params[\"b\"]))\r\n",
    "print (\"dw = \" + str(grads[\"dw\"]))\r\n",
    "print (\"db = \" + str(grads[\"db\"]))"
   ],
   "outputs": [
    {
     "output_type": "stream",
     "name": "stdout",
     "text": [
      "w = [[0.19033591]\n",
      " [0.12259159]]\n",
      "b = 1.9253598300845747\n",
      "dw = [[0.67752042]\n",
      " [1.41625495]]\n",
      "db = 0.21919450454067657\n"
     ]
    }
   ],
   "metadata": {
    "collapsed": false
   }
  },
  {
   "cell_type": "markdown",
   "source": [
    "**Expected Output**: \n",
    "\n",
    "<table style=\"width:40%\">\n",
    "    <tr>\n",
    "       <td> **w** </td>\n",
    "       <td>[[ 0.19033591]\n",
    " [ 0.12259159]] </td>\n",
    "    </tr>\n",
    "    \n",
    "    <tr>\n",
    "       <td> **b** </td>\n",
    "       <td> 1.92535983008 </td>\n",
    "    </tr>\n",
    "    <tr>\n",
    "       <td> **dw** </td>\n",
    "       <td> [[ 0.67752042]\n",
    " [ 1.41625495]] </td>\n",
    "    </tr>\n",
    "    <tr>\n",
    "       <td> **db** </td>\n",
    "       <td> 0.219194504541 </td>\n",
    "    </tr>\n",
    "\n",
    "</table>"
   ],
   "metadata": {}
  },
  {
   "cell_type": "markdown",
   "source": [
    "**Exercise:** The previous function will output the learned w and b. We are able to use w and b to predict the labels for a dataset X. Implement the `predict()` function. There are two steps to computing predictions:\r\n",
    "\r\n",
    "1. Calculate $\\hat{Y} = A = \\sigma(w^T X + b)$\r\n",
    "\r\n",
    "2. Convert the entries of a into 0 (if activation <= 0.5) or 1 (if activation > 0.5), stores the predictions in a vector `Y_prediction`. If you wish, you can use an `if`/`else` statement in a `for` loop (though there is also a way to vectorize this). "
   ],
   "metadata": {}
  },
  {
   "cell_type": "code",
   "execution_count": 15,
   "source": [
    "# GRADED FUNCTION: predict\r\n",
    "\r\n",
    "''' \r\n",
    "    Predict whether the label is 0 or 1 using learned logistic regression parameters (w, b)\r\n",
    "    \r\n",
    "    Arguments:\r\n",
    "    w -- weights, a numpy array of size (num_px * num_px * 3, 1)\r\n",
    "    b -- bias, a scalar\r\n",
    "    X -- data of size (num_px * num_px * 3, number of examples)\r\n",
    "    \r\n",
    "    Returns:\r\n",
    "    Y_prediction -- a numpy array (vector) containing all predictions (0/1) for the examples in X\r\n",
    "    \r\n",
    "    \r\n",
    "    # Compute vector \"A\" predicting the probabilities of a cat being present in the picture\r\n",
    "    ### START CODE HERE ### (≈ 1 line of code)\r\n",
    "    A = None\r\n",
    "    ### END CODE HERE ###\r\n",
    "    \r\n",
    "   '''\r\n",
    "\r\n",
    "def predict(w, b, X):    \r\n",
    "    m = X.shape[1]\r\n",
    "    Y_prediction = np.zeros((1, m))\r\n",
    "    w = w.reshape(X.shape[0], 1)\r\n",
    "    \r\n",
    "    z = np.dot(w.T, X) + b\r\n",
    "    A = sigmoid(z)\r\n",
    "    \r\n",
    "    for i in range(A.shape[1]):\r\n",
    "        # Convert probabilities A[0,i] to actual predictions p[0,i]\r\n",
    "        if A[0,i] > 0.5:\r\n",
    "            Y_prediction[[0],[i]] = 1\r\n",
    "        else: \r\n",
    "            Y_prediction[[0],[i]] = 0\r\n",
    "    \r\n",
    "    return Y_prediction"
   ],
   "outputs": [],
   "metadata": {
    "collapsed": false
   }
  },
  {
   "cell_type": "code",
   "execution_count": 16,
   "source": [
    "w = np.array([[0.1124579],[0.23106775]])\r\n",
    "b = -0.3\r\n",
    "X = np.array([[1.,-1.1,-3.2],[1.2,2.,0.1]])\r\n",
    "print (\"predictions = \" + str(predict(w, b, X)))"
   ],
   "outputs": [
    {
     "output_type": "stream",
     "name": "stdout",
     "text": [
      "predictions = [[1. 1. 0.]]\n"
     ]
    }
   ],
   "metadata": {
    "collapsed": false
   }
  },
  {
   "cell_type": "markdown",
   "source": [
    "**Expected Output**: \n",
    "\n",
    "<table style=\"width:30%\">\n",
    "    <tr>\n",
    "         <td>\n",
    "             **predictions**\n",
    "         </td>\n",
    "          <td>\n",
    "            [[ 1.  1.  0.]]\n",
    "         </td>  \n",
    "   </tr>\n",
    "\n",
    "</table>\n"
   ],
   "metadata": {}
  },
  {
   "cell_type": "markdown",
   "source": [
    "<font color='blue'>\n",
    "**What to remember:**\n",
    "You've implemented several functions that:\n",
    "- Initialize (w,b)\n",
    "- Optimize the loss iteratively to learn parameters (w,b):\n",
    "    - computing the cost and its gradient \n",
    "    - updating the parameters using gradient descent\n",
    "- Use the learned (w,b) to predict the labels for a given set of examples"
   ],
   "metadata": {
    "collapsed": true
   }
  },
  {
   "cell_type": "markdown",
   "source": [
    "## 5 - Merge all functions into a model ##\r\n",
    "\r\n",
    "You will now see how the overall model is structured by putting together all the building blocks (functions implemented in the previous parts) together, in the right order.\r\n",
    "\r\n",
    "**Exercise:** Implement the model function. Use the following notation:\r\n",
    "    - Y_prediction_test for your predictions on the test set\r\n",
    "    - Y_prediction_train for your predictions on the train set\r\n",
    "    - w, costs, grads for the outputs of optimize()"
   ],
   "metadata": {}
  },
  {
   "cell_type": "code",
   "execution_count": 17,
   "source": [
    "# GRADED FUNCTION: model\r\n",
    "\r\n",
    "\"\"\" def model(X_train, Y_train, X_test, Y_test, num_iterations = 2000, learning_rate = 0.5, print_cost = False):\r\n",
    "    \r\n",
    "    Builds the logistic regression model by calling the function you've implemented previously\r\n",
    "    \r\n",
    "    Arguments:\r\n",
    "    X_train -- training set represented by a numpy array of shape (num_px * num_px * 3, m_train)\r\n",
    "    Y_train -- training labels represented by a numpy array (vector) of shape (1, m_train)\r\n",
    "    X_test -- test set represented by a numpy array of shape (num_px * num_px * 3, m_test)\r\n",
    "    Y_test -- test labels represented by a numpy array (vector) of shape (1, m_test)\r\n",
    "    num_iterations -- hyperparameter representing the number of iterations to optimize the parameters\r\n",
    "    learning_rate -- hyperparameter representing the learning rate used in the update rule of optimize()\r\n",
    "    print_cost -- Set to true to print the cost every 100 iterations\r\n",
    "    \r\n",
    "    Returns:\r\n",
    "    d -- dictionary containing information about the model.\r\n",
    "\r\n",
    "\r\n",
    "    \"\"\"\r\n",
    "def model(X_train, Y_train, X_test, Y_test, num_iterations = 2000, learning_rate = 0.5, print_cost = False):\r\n",
    "    # initialize parameters with zeros\r\n",
    "    w, b = initialize_with_zeros(X_train.shape[0])\r\n",
    "\r\n",
    "    # Gradient descent\r\n",
    "    parameters, grads, costs = optimize(w, b, X_train, Y_train, num_iterations, learning_rate, print_cost)\r\n",
    "    \r\n",
    "    # Retrieve parameters w and b from dictionary \"parameters\"\r\n",
    "    w = parameters[\"w\"]\r\n",
    "    b = parameters[\"b\"]\r\n",
    "    \r\n",
    "    # Predict test/train set examples\r\n",
    "    Y_prediction_test = predict(w,b,X_test)\r\n",
    "    Y_prediction_train = predict(w,b,X_train)\r\n",
    "\r\n",
    "    # Print train/test Errors\r\n",
    "    print(\"train accuracy: {} %\".format(100 - np.mean(np.abs(Y_prediction_train - Y_train)) * 100))\r\n",
    "    print(\"test accuracy: {} %\".format(100 - np.mean(np.abs(Y_prediction_test - Y_test)) * 100))\r\n",
    "\r\n",
    "    \r\n",
    "    d = {\"costs\": costs,\r\n",
    "            \"Y_prediction_test\": Y_prediction_test,\r\n",
    "            \"Y_prediction_train\": Y_prediction_train,\r\n",
    "            \"w\": w,\r\n",
    "            \"b\": b,\r\n",
    "            \"learning_rate\": learning_rate,\r\n",
    "            \"num_iterations:\": num_iterations}\r\n",
    "    \r\n",
    "    return d"
   ],
   "outputs": [],
   "metadata": {
    "collapsed": false
   }
  },
  {
   "cell_type": "markdown",
   "source": [
    "Run the following cell to train your model."
   ],
   "metadata": {}
  },
  {
   "cell_type": "code",
   "execution_count": 18,
   "source": [
    "\r\n",
    "d = model(train_set_x, train_set_y, test_set_x, test_set_y, num_iterations = 2000, learning_rate = 0.005, print_cost = True)"
   ],
   "outputs": [
    {
     "output_type": "stream",
     "name": "stdout",
     "text": [
      "Cost after iteration 0: 0.693147\n",
      "Cost after iteration 100: 0.584508\n",
      "Cost after iteration 200: 0.466949\n",
      "Cost after iteration 300: 0.376007\n",
      "Cost after iteration 400: 0.331463\n",
      "Cost after iteration 500: 0.303273\n",
      "Cost after iteration 600: 0.279880\n",
      "Cost after iteration 700: 0.260042\n",
      "Cost after iteration 800: 0.242941\n",
      "Cost after iteration 900: 0.228004\n",
      "Cost after iteration 1000: 0.214820\n",
      "Cost after iteration 1100: 0.203078\n",
      "Cost after iteration 1200: 0.192544\n",
      "Cost after iteration 1300: 0.183033\n",
      "Cost after iteration 1400: 0.174399\n",
      "Cost after iteration 1500: 0.166521\n",
      "Cost after iteration 1600: 0.159305\n",
      "Cost after iteration 1700: 0.152667\n",
      "Cost after iteration 1800: 0.146542\n",
      "Cost after iteration 1900: 0.140872\n",
      "train accuracy: 99.04306220095694 %\n",
      "test accuracy: 70.0 %\n"
     ]
    }
   ],
   "metadata": {
    "collapsed": false
   }
  },
  {
   "cell_type": "markdown",
   "source": [
    "**Expected Output**: \n",
    "\n",
    "<table style=\"width:40%\"> \n",
    "\n",
    "    <tr>\n",
    "        <td> **Cost after iteration 0 **  </td> \n",
    "        <td> 0.693147 </td>\n",
    "    </tr>\n",
    "      <tr>\n",
    "        <td> <center> $\\vdots$ </center> </td> \n",
    "        <td> <center> $\\vdots$ </center> </td> \n",
    "    </tr>  \n",
    "    <tr>\n",
    "        <td> **Train Accuracy**  </td> \n",
    "        <td> 99.04306220095694 % </td>\n",
    "    </tr>\n",
    "\n",
    "    <tr>\n",
    "        <td>**Test Accuracy** </td> \n",
    "        <td> 70.0 % </td>\n",
    "    </tr>\n",
    "</table> \n",
    "\n",
    "\n"
   ],
   "metadata": {}
  },
  {
   "cell_type": "markdown",
   "source": [
    "**Comment**: Training accuracy is close to 100%. This is a good sanity check: your model is working and has high enough capacity to fit the training data. Test error is 68%. It is actually not bad for this simple model, given the small dataset we used and that logistic regression is a linear classifier. But no worries, you'll build an even better classifier next week!\n",
    "\n",
    "Also, you see that the model is clearly overfitting the training data. Later in this specialization you will learn how to reduce overfitting, for example by using regularization. Using the code below (and changing the `index` variable) you can look at predictions on pictures of the test set."
   ],
   "metadata": {
    "collapsed": true
   }
  },
  {
   "cell_type": "code",
   "execution_count": 38,
   "source": [
    "# Example of  picture that was wrongly classified.\r\n",
    "index = 9\r\n",
    "plt.imshow(test_set_x[:,index].reshape((num_px, num_px, 3)))\r\n",
    "#print (\"y = \" + str(test_set_y[0,index]) + \", you predicted that it is a \\\"\" + classes[d[\"Y_prediction_test\"][0,index]].decode(\"utf-8\") +  \"\\\" picture.\")\r\n",
    "\r\n",
    "print(\"y = \" + str(np.squeeze(test_set_y[:,index])) + \", you predicted that it is a \\\"\" + classes[int(np.squeeze(test_set_y[:,index])),].decode(\"utf-8\") +  \"\\\" picture.\")"
   ],
   "outputs": [
    {
     "output_type": "stream",
     "name": "stdout",
     "text": [
      "y = 1, you predicted that it is a \"cat\" picture.\n"
     ]
    },
    {
     "output_type": "display_data",
     "data": {
      "image/png": "[encoded data removed]",
      "text/plain": [
       "<Figure size 432x288 with 1 Axes>"
      ]
     },
     "metadata": {
      "needs_background": "light"
     }
    }
   ],
   "metadata": {
    "collapsed": false
   }
  },
  {
   "cell_type": "markdown",
   "source": [
    "Let's also plot the cost function and the gradients."
   ],
   "metadata": {}
  },
  {
   "cell_type": "code",
   "execution_count": 20,
   "source": [
    "# Plot learning curve (with costs)\r\n",
    "costs = np.squeeze(d['costs'])\r\n",
    "plt.plot(costs)\r\n",
    "plt.ylabel('cost')\r\n",
    "plt.xlabel('iterations (per hundreds)')\r\n",
    "plt.title(\"Learning rate =\" + str(d[\"learning_rate\"]))\r\n",
    "plt.show()"
   ],
   "outputs": [
    {
     "output_type": "display_data",
     "data": {
      "image/png": "[encoded data removed]",
      "text/plain": [
       "<Figure size 432x288 with 1 Axes>"
      ]
     },
     "metadata": {
      "needs_background": "light"
     }
    }
   ],
   "metadata": {
    "collapsed": false
   }
  },
  {
   "cell_type": "markdown",
   "source": [
    "**Interpretation**:\n",
    "You can see the cost decreasing. It shows that the parameters are being learned. However, you see that you could train the model even more on the training set. Try to increase the number of iterations in the cell above and rerun the cells. You might see that the training set accuracy goes up, but the test set accuracy goes down. This is called overfitting. "
   ],
   "metadata": {
    "collapsed": true
   }
  },
  {
   "cell_type": "markdown",
   "source": [
    "## 6 - Further analysis (optional/ungraded exercise) ##\n",
    "\n",
    "Congratulations on building your first image classification model. Let's analyze it further, and examine possible choices for the learning rate $\\alpha$. "
   ],
   "metadata": {}
  },
  {
   "cell_type": "markdown",
   "source": [
    "#### Choice of learning rate ####\n",
    "\n",
    "**Reminder**:\n",
    "In order for Gradient Descent to work you must choose the learning rate wisely. The learning rate $\\alpha$  determines how rapidly we update the parameters. If the learning rate is too large we may \"overshoot\" the optimal value. Similarly, if it is too small we will need too many iterations to converge to the best values. That's why it is crucial to use a well-tuned learning rate.\n",
    "\n",
    "Let's compare the learning curve of our model with several choices of learning rates. Run the cell below. This should take about 1 minute. Feel free also to try different values than the three we have initialized the `learning_rates` variable to contain, and see what happens. "
   ],
   "metadata": {}
  },
  {
   "cell_type": "code",
   "execution_count": 39,
   "source": [
    "learning_rates = [0.01, 0.001, 0.0001]\r\n",
    "models = {}\r\n",
    "for i in learning_rates:\r\n",
    "    print (\"learning rate is: \" + str(i))\r\n",
    "    models[str(i)] = model(train_set_x, train_set_y, test_set_x, test_set_y, num_iterations = 1500, learning_rate = i, print_cost = False)\r\n",
    "    print ('\\n' + \"-------------------------------------------------------\" + '\\n')\r\n",
    "\r\n",
    "for i in learning_rates:\r\n",
    "    plt.plot(np.squeeze(models[str(i)][\"costs\"]), label= str(models[str(i)][\"learning_rate\"]))\r\n",
    "\r\n",
    "plt.ylabel('cost')\r\n",
    "plt.xlabel('iterations (hundreds)')\r\n",
    "\r\n",
    "legend = plt.legend(loc='upper center', shadow=True)\r\n",
    "frame = legend.get_frame()\r\n",
    "frame.set_facecolor('0.90')\r\n",
    "plt.show()"
   ],
   "outputs": [
    {
     "output_type": "stream",
     "name": "stdout",
     "text": [
      "learning rate is: 0.01\n",
      "train accuracy: 99.52153110047847 %\n",
      "test accuracy: 68.0 %\n",
      "\n",
      "-------------------------------------------------------\n",
      "\n",
      "learning rate is: 0.001\n",
      "train accuracy: 88.99521531100478 %\n",
      "test accuracy: 64.0 %\n",
      "\n",
      "-------------------------------------------------------\n",
      "\n",
      "learning rate is: 0.0001\n",
      "train accuracy: 68.42105263157895 %\n",
      "test accuracy: 36.0 %\n",
      "\n",
      "-------------------------------------------------------\n",
      "\n"
     ]
    },
    {
     "output_type": "display_data",
     "data": {
      "image/png": "[encoded data removed]",
      "text/plain": [
       "<Figure size 432x288 with 1 Axes>"
      ]
     },
     "metadata": {
      "needs_background": "light"
     }
    }
   ],
   "metadata": {
    "collapsed": false
   }
  },
  {
   "cell_type": "markdown",
   "source": [
    "**Interpretation**: \r\n",
    "- Different learning rates give different costs and thus different predictions results.\r\n",
    "- If the learning rate is too large (0.01), the cost may oscillate up and down. It may even diverge (though in this example, using 0.01 still eventually ends up at a good value for the cost). \r\n",
    "- A lower cost doesn't mean a better model. You have to check if there is possibly overfitting. It happens when the training accuracy is a lot higher than the test accuracy.\r\n",
    "- In deep learning, we usually recommend that you: \r\n",
    "    - Choose the learning rate that better minimizes the cost function.\r\n",
    "    - If your model overfits, use other techniques to reduce overfitting. (We'll talk about this in later videos.) \r\n"
   ],
   "metadata": {}
  },
  {
   "cell_type": "markdown",
   "source": [
    "## 7 - Test with your own image (optional/ungraded exercise) ##\n",
    "\n",
    "Congratulations on finishing this assignment. You can use your own image and see the output of your model. To do that:\n",
    "    1. Click on \"File\" in the upper bar of this notebook, then click \"Open\" to go on your Coursera Hub.\n",
    "    2. Add your image to this Jupyter Notebook's directory, in the \"images\" folder\n",
    "    3. Change your image's name in the following code\n",
    "    4. Run the code and check if the algorithm is right (1 = cat, 0 = non-cat)!"
   ],
   "metadata": {
    "collapsed": true
   }
  },
  {
   "cell_type": "code",
   "execution_count": 41,
   "source": [
    "def read_image(file_path):\r\n",
    "    img = cv2.imread(file_path, cv2.IMREAD_COLOR)\r\n",
    "    return cv2.resize(img, (ROWS, COLS), interpolation=cv2.INTER_CUBIC)\r\n",
    "\r\n",
    "## START CODE HERE ## (PUT YOUR IMAGE NAME) \r\n",
    "my_image = \"la_defense.jpg\"   # change this to the name of your image file \r\n",
    "## END CODE HERE ##\r\n",
    "\r\n",
    "# We preprocess the image to fit your algorithm.\r\n",
    "fname = \"images/\" + my_image\r\n",
    "\r\n",
    "my_image = read_image(fname).reshape(1, ROWS*COLS*CHANNELS).T\r\n",
    "my_predicted_image = predict(d[\"w\"], d[\"b\"], my_image)\r\n",
    "\r\n",
    "print(\"y = \" + str(np.squeeze(my_predicted_image)) + \", your algorithm predicts a \\\"\" + classes[int(np.squeeze(my_predicted_image)),].decode(\"utf-8\") +  \"\\\" picture.\")"
   ],
   "outputs": [
    {
     "output_type": "stream",
     "name": "stdout",
     "text": [
      "y = 0.0, your algorithm predicts a \"non-cat\" picture.\n"
     ]
    }
   ],
   "metadata": {
    "collapsed": false,
    "scrolled": false
   }
  },
  {
   "cell_type": "markdown",
   "source": [
    "<font color='blue'>\n",
    "**What to remember from this assignment:**\n",
    "1. Preprocessing the dataset is important.\n",
    "2. You implemented each function separately: initialize(), propagate(), optimize(). Then you built a model().\n",
    "3. Tuning the learning rate (which is an example of a \"hyperparameter\") can make a big difference to the algorithm. You will see more examples of this later in this course!"
   ],
   "metadata": {}
  },
  {
   "cell_type": "markdown",
   "source": [
    "Finally, if you'd like, we invite you to try different things on this Notebook. Make sure you submit before trying anything. Once you submit, things you can play with include:\n",
    "    - Play with the learning rate and the number of iterations\n",
    "    - Try different initialization methods and compare the results\n",
    "    - Test other preprocessings (center the data, or divide each row by its standard deviation)"
   ],
   "metadata": {}
  },
  {
   "cell_type": "markdown",
   "source": [
    "Bibliography:\n",
    "- http://www.wildml.com/2015/09/implementing-a-neural-network-from-scratch/\n",
    "- https://stats.stackexchange.com/questions/211436/why-do-we-normalize-images-by-subtracting-the-datasets-image-mean-and-not-the-c"
   ],
   "metadata": {}
  }
 ],
 "metadata": {
  "coursera": {
   "course_slug": "neural-networks-deep-learning",
   "graded_item_id": "XaIWT",
   "launcher_item_id": "zAgPl"
  },
  "kernelspec": {
   "name": "python3",
   "display_name": "Python 3.9.6 64-bit"
  },
  "language_info": {
   "codemirror_mode": {
    "name": "ipython",
    "version": 3
   },
   "file_extension": ".py",
   "mimetype": "text/x-python",
   "name": "python",
   "nbconvert_exporter": "python",
   "pygments_lexer": "ipython3",
   "version": "3.9.6"
  },
  "interpreter": {
   "hash": "684534fda3eefaa31ad21766582646ba8da9550bd838ffe4ceb72a3e855c9e20"
  }
 },
 "nbformat": 4,
 "nbformat_minor": 2
}